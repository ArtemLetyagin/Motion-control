{
 "cells": [
  {
   "cell_type": "code",
   "execution_count": 1,
   "id": "8e87ad4a",
   "metadata": {},
   "outputs": [],
   "source": [
    "from fingerLSTM import Finger, Fingers\n",
    "import matplotlib.pyplot as plt\n",
    "import numpy as np\n",
    "from skimage.draw import line_aa\n",
    "import time\n",
    "import cv2\n",
    "import mediapipe as mp\n",
    "from torch.utils.data import DataLoader, Dataset\n",
    "from pynput.keyboard import Key,Controller\n",
    "from sklearn.preprocessing import StandardScaler\n",
    "from win32com.client import Dispatch\n",
    "import os\n",
    "import torch.nn as nn\n",
    "import torch\n",
    "from torch.autograd import Variable "
   ]
  },
  {
   "cell_type": "code",
   "execution_count": 2,
   "id": "92d8d8f8",
   "metadata": {},
   "outputs": [],
   "source": [
    "#hand detection\n",
    "hands = mp.solutions.hands.Hands(static_image_mode=False,\n",
    "                         max_num_hands=1,\n",
    "                         min_tracking_confidence=0.5,\n",
    "                         min_detection_confidence=0.5)\n",
    "\n",
    "mpDraw = mp.solutions.drawing_utils"
   ]
  },
  {
   "cell_type": "code",
   "execution_count": 3,
   "id": "4aaa9aae",
   "metadata": {},
   "outputs": [],
   "source": [
    "cap = cv2.VideoCapture(0)"
   ]
  },
  {
   "cell_type": "code",
   "execution_count": 262,
   "id": "eb06e794",
   "metadata": {},
   "outputs": [],
   "source": [
    "#TEXT\n",
    "font = cv2.FONT_HERSHEY_SIMPLEX\n",
    "bottomLeftCornerOfText = (10,30)\n",
    "fontScale = 1\n",
    "fontColor = (255,255,255)\n",
    "fontColor_red = (0, 0, 255)\n",
    "thickness = 1\n",
    "lineType = 2\n",
    "#CAMERA\n",
    "t = time.time()\n",
    "fingers = Fingers(30)\n",
    "while True:\n",
    "    _, img = cap.read()\n",
    "    h, w, _ = img.shape\n",
    "    img = cv2.flip(img, 1)\n",
    "    result = hands.process(img)\n",
    "    if result.multi_hand_landmarks:\n",
    "        x = []\n",
    "        for id, lm in enumerate(result.multi_hand_landmarks[0].landmark):\n",
    "            #cv2.circle(img, (cx, cy), 3, (255, 255, 255))\n",
    "            if id == 4:\n",
    "                cx, cy = int(lm.x*w), int(lm.y*h)\n",
    "                x.append([cx, cy])\n",
    "                cv2.circle(img, (cx, cy), 5, (0, 255, 0))\n",
    "            if id == 8:\n",
    "                cx, cy = int(lm.x*w), int(lm.y*h)\n",
    "                x.append([cx, cy])\n",
    "                cv2.circle(img, (cx, cy), 5, (0, 255, 255))\n",
    "            if id == 12:\n",
    "                cx, cy = int(lm.x*w), int(lm.y*h)\n",
    "                x.append([cx, cy])\n",
    "                cv2.circle(img, (cx, cy), 5, (255, 0, 0))\n",
    "            if id == 16:\n",
    "                cx, cy = int(lm.x*w), int(lm.y*h)\n",
    "                x.append([cx, cy])\n",
    "                cv2.circle(img, (cx, cy), 5, (255, 255, 0))\n",
    "            if id == 20:\n",
    "                cx, cy = int(lm.x*w), int(lm.y*h)\n",
    "                x.append([cx, cy])\n",
    "                cv2.circle(img, (cx, cy), 5, (255, 255, 255))\n",
    "        fingers.append(x)\n",
    "    if time.time()-t >2.4:\n",
    "        cv2.putText(img,f'{time.time()-t:.2f}', bottomLeftCornerOfText, font, fontScale,fontColor_red,thickness,lineType)\n",
    "    else:\n",
    "        cv2.putText(img,f'{time.time()-t:.2f}', bottomLeftCornerOfText, font, fontScale,fontColor,thickness,lineType)\n",
    "    cv2.imshow(\"1\",img)\n",
    "    cv2.waitKey(1)\n",
    "    if time.time()-t>3:\n",
    "        break\n",
    "cv2.destroyAllWindows()"
   ]
  },
  {
   "cell_type": "code",
   "execution_count": 263,
   "id": "e9284509",
   "metadata": {},
   "outputs": [
    {
     "data": {
      "image/png": "[encoded data removed]",
      "text/plain": [
       "<Figure size 640x480 with 1 Axes>"
      ]
     },
     "metadata": {},
     "output_type": "display_data"
    }
   ],
   "source": [
    "plt.imshow(fingers.image(h, w), cmap='seismic')\n",
    "plt.show()"
   ]
  },
  {
   "cell_type": "code",
   "execution_count": 180,
   "id": "7c66c039",
   "metadata": {},
   "outputs": [
    {
     "name": "stdout",
     "output_type": "stream",
     "text": [
      "50\n"
     ]
    }
   ],
   "source": [
    "stop.append(fingers.get_tensor().numpy())\n",
    "print(len(stop))"
   ]
  },
  {
   "cell_type": "code",
   "execution_count": 23,
   "id": "45d16a53",
   "metadata": {},
   "outputs": [],
   "source": [
    "#up_volume = []\n",
    "#low_volume = []\n",
    "#next_track = []\n",
    "#trash = []\n",
    "#stop = []"
   ]
  },
  {
   "cell_type": "code",
   "execution_count": 181,
   "id": "acf035e3",
   "metadata": {},
   "outputs": [],
   "source": [
    "#np.save('up_volume.npy', up_volume)\n",
    "#np.save('low_volume.npy', low_volume)\n",
    "#np.save('next_track.npy', next_track)\n",
    "#np.save('trash.npy', trash)\n",
    "#np.save('stop.npy', stop)"
   ]
  },
  {
   "cell_type": "code",
   "execution_count": 183,
   "id": "fb76ad98",
   "metadata": {},
   "outputs": [],
   "source": [
    "up_volume = np.load('up_volume.npy')\n",
    "low_volume = np.load('low_volume.npy')\n",
    "data_next = np.load('next_track.npy')\n",
    "trash = np.load('trash.npy')\n",
    "stop = np.load('stop.npy')"
   ]
  },
  {
   "cell_type": "code",
   "execution_count": 6,
   "id": "fb7d9240",
   "metadata": {},
   "outputs": [
    {
     "data": {
      "text/plain": [
       "(50, 30, 10)"
      ]
     },
     "execution_count": 6,
     "metadata": {},
     "output_type": "execute_result"
    }
   ],
   "source": [
    "data_next.shape"
   ]
  },
  {
   "cell_type": "code",
   "execution_count": 184,
   "id": "11d98a31",
   "metadata": {},
   "outputs": [
    {
     "name": "stdout",
     "output_type": "stream",
     "text": [
      "100\n",
      "100\n",
      "100\n",
      "100\n",
      "100\n"
     ]
    }
   ],
   "source": [
    "add = []\n",
    "for sample in up_volume:\n",
    "    add.append(sample+np.random.normal(0,0.05,[30,10]))\n",
    "up_volume = np.concatenate((up_volume, add))\n",
    "\n",
    "add = []\n",
    "for sample in low_volume:\n",
    "    add.append(sample+np.random.normal(0,0.05,[30,10]))\n",
    "low_volume = np.concatenate((low_volume, add))\n",
    "\n",
    "add = []\n",
    "for sample in data_next:\n",
    "    add.append(sample+np.random.normal(0,0.05,[30,10]))\n",
    "data_next = np.concatenate((data_next, add))\n",
    "\n",
    "add = []\n",
    "for sample in trash:\n",
    "    add.append(sample+np.random.normal(0,0.05,[30,10]))\n",
    "trash = np.concatenate((trash, add))\n",
    "\n",
    "add = []\n",
    "for sample in stop:\n",
    "    add.append(sample+np.random.normal(0,0.05,[30,10]))\n",
    "stop = np.concatenate((stop, add))\n",
    "\n",
    "print(len(up_volume))\n",
    "print(len(low_volume))\n",
    "print(len(data_next))\n",
    "print(len(trash))\n",
    "print(len(stop))\n",
    "np.save('up_volume_aug.npy', up_volume)\n",
    "np.save('low_volume_aug.npy', low_volume)\n",
    "np.save('next_aug.npy', data_next)\n",
    "np.save('trash_aug.npy', trash)\n",
    "np.save('stop_aug.npy', stop)"
   ]
  },
  {
   "cell_type": "code",
   "execution_count": 187,
   "id": "2c69c1fe",
   "metadata": {},
   "outputs": [],
   "source": [
    "class FingerDataset(Dataset):\n",
    "    def __init__(self, paths):\n",
    "        up_vol = np.load(paths[0])\n",
    "        low_vol = np.load(paths[1])\n",
    "        next_track = np.load(paths[2])\n",
    "        trash = np.load(paths[3])\n",
    "        stop = np.load(paths[4])\n",
    "        \n",
    "        data = np.append(up_vol, low_vol, axis=0)\n",
    "        data = np.append(data, next_track, axis=0)\n",
    "        data = np.append(data, trash, axis=0)\n",
    "        data = np.append(data, stop, axis=0)\n",
    "        \n",
    "        self.data = data\n",
    "        self.labels = [0]*len(up_vol)+[1]*len(low_vol)+[2]*len(next_track)+[3]*len(trash)+[4]*len(stop)\n",
    "        \n",
    "    def __getitem__(self, index):\n",
    "        return self.data[index], self.labels[index]\n",
    "    \n",
    "    def __len__(self):\n",
    "        return len(self.data)"
   ]
  },
  {
   "cell_type": "code",
   "execution_count": 189,
   "id": "39ad81a3",
   "metadata": {},
   "outputs": [
    {
     "name": "stdout",
     "output_type": "stream",
     "text": [
      "500\n"
     ]
    }
   ],
   "source": [
    "paths1 = ['up_volume_aug.npy', 'low_volume_aug.npy', 'next_aug.npy', 'trash_aug.npy', 'stop_aug.npy']\n",
    "data = FingerDataset(paths1)\n",
    "print(data.__len__())"
   ]
  },
  {
   "cell_type": "code",
   "execution_count": 190,
   "id": "96321fc2",
   "metadata": {},
   "outputs": [],
   "source": [
    "data_loader1 = DataLoader(data, shuffle=True, batch_size=5)"
   ]
  },
  {
   "cell_type": "code",
   "execution_count": 191,
   "id": "5fc93f17",
   "metadata": {},
   "outputs": [],
   "source": [
    "batch = next(iter(data_loader1))"
   ]
  },
  {
   "cell_type": "code",
   "execution_count": 192,
   "id": "3f9256d2",
   "metadata": {},
   "outputs": [
    {
     "data": {
      "text/plain": [
       "tensor([4, 0, 3, 1, 0])"
      ]
     },
     "execution_count": 192,
     "metadata": {},
     "output_type": "execute_result"
    }
   ],
   "source": [
    "batch[1]"
   ]
  },
  {
   "cell_type": "code",
   "execution_count": 193,
   "id": "2097bd67",
   "metadata": {},
   "outputs": [],
   "source": [
    "class Model(nn.Module):\n",
    "    def __init__(self, num_layers, hidden_size):\n",
    "        super(Model, self).__init__()\n",
    "        self.num_layers = num_layers\n",
    "        self.hidden_size = hidden_size\n",
    "        self.lstm = nn.LSTM(input_size=10, hidden_size=hidden_size, num_layers=num_layers, batch_first=True)\n",
    "        self.l1 = nn.Linear(hidden_size, 5)\n",
    "        self.relu = nn.ReLU()\n",
    "    def forward(self, x):\n",
    "        #out = self.CNN(x).view(-1, 1, 180)\n",
    "\n",
    "        h_0 = Variable(torch.zeros(self.num_layers, x.size(0), self.hidden_size)) #hidden state\n",
    "        c_0 = Variable(torch.zeros(self.num_layers, x.size(0), self.hidden_size)) #internal state\n",
    "        \n",
    "        out, (hn, cn) = self.lstm(x, (h_0, c_0))\n",
    "        hn = hn.view(-1, self.hidden_size)\n",
    "        return self.l1(hn)"
   ]
  },
  {
   "cell_type": "code",
   "execution_count": 194,
   "id": "84fdb529",
   "metadata": {},
   "outputs": [],
   "source": [
    "num_layers = 1\n",
    "hidden_size = 100\n",
    "model = Model(num_layers, hidden_size)\n",
    "criterion = nn.CrossEntropyLoss()\n",
    "optimizer = torch.optim.Adam(model.parameters(), lr=0.01)"
   ]
  },
  {
   "cell_type": "code",
   "execution_count": 195,
   "id": "05944d4b",
   "metadata": {},
   "outputs": [
    {
     "data": {
      "text/plain": [
       "tensor([[-0.0101, -0.0951, -0.0862, -0.0227, -0.1177],\n",
       "        [-0.0259, -0.1816, -0.0450,  0.0382,  0.0450],\n",
       "        [-0.0661, -0.1904, -0.0201,  0.0940, -0.0685]],\n",
       "       grad_fn=<AddmmBackward0>)"
      ]
     },
     "execution_count": 195,
     "metadata": {},
     "output_type": "execute_result"
    }
   ],
   "source": [
    "model(torch.randn(3,30,10))"
   ]
  },
  {
   "cell_type": "code",
   "execution_count": 196,
   "id": "e8366dad",
   "metadata": {},
   "outputs": [
    {
     "name": "stdout",
     "output_type": "stream",
     "text": [
      "Epoch: 0, loss: 0.3699711263179779\n",
      "Epoch: 10, loss: 0.0004774488043040037\n",
      "Epoch: 20, loss: 0.00027111053350381553\n",
      "Epoch: 30, loss: 6.029305950505659e-05\n",
      "Epoch: 40, loss: 3.363993528182618e-05\n",
      "Epoch: 50, loss: 2.37222029682016e-05\n",
      "Epoch: 60, loss: 5.316712304193061e-06\n",
      "Epoch: 70, loss: 8.630679985799361e-06\n",
      "Epoch: 80, loss: 9.894284630718175e-06\n",
      "Epoch: 90, loss: 3.0517498998960946e-06\n",
      "Epoch: 100, loss: 5.722043852074421e-07\n",
      "Epoch: 110, loss: 5.245207148618647e-07\n",
      "Epoch: 120, loss: 5.006788228456571e-07\n",
      "Epoch: 130, loss: 4.0531145373279287e-07\n",
      "Epoch: 140, loss: 1.907348377017115e-07\n",
      "Epoch: 150, loss: 1.9073479506914737e-07\n",
      "Epoch: 160, loss: 0.0\n",
      "Epoch: 170, loss: 0.0\n",
      "Epoch: 180, loss: 0.0\n",
      "Epoch: 190, loss: 0.0\n"
     ]
    }
   ],
   "source": [
    "num_epochs = 200\n",
    "for epoch in range(num_epochs):\n",
    "    for images, labels in data_loader1:\n",
    "        out = model(images.to(torch.float))\n",
    "        \n",
    "        optimizer.zero_grad()\n",
    "        loss = criterion(out.to(torch.float), labels)\n",
    "        loss.backward()\n",
    "        optimizer.step()\n",
    "    if epoch %10 ==0:\n",
    "        print(f'Epoch: {epoch}, loss: {loss}')"
   ]
  },
  {
   "cell_type": "code",
   "execution_count": 278,
   "id": "d175e097",
   "metadata": {},
   "outputs": [
    {
     "name": "stdout",
     "output_type": "stream",
     "text": [
      "play\n",
      "pause\n",
      "15\n",
      "20\n",
      "25\n",
      "play\n",
      "pause\n",
      "play\n",
      "30\n",
      "35\n",
      "40\n",
      "45\n",
      "pause\n",
      "next\n",
      "next\n",
      "play\n",
      "50\n",
      "55\n",
      "60\n",
      "next\n",
      "pause\n",
      "play\n",
      "55\n",
      "50\n",
      "55\n",
      "60\n",
      "65\n",
      "70\n",
      "75\n",
      "80\n",
      "next\n",
      "pause\n",
      "play\n",
      "next\n",
      "75\n"
     ]
    }
   ],
   "source": [
    "## lev=0\n",
    "t = time.time()\n",
    "fingers = Fingers(30)\n",
    "#WMP\n",
    "lev=0\n",
    "mp = Dispatch(\"WMPlayer.OCX\", 0)\n",
    "for song in os.listdir(\"C:/Users/Artem/Desktop/Artem/volume_hand_project/Playlist\"):\n",
    "    tune1 = mp.newMedia(\"C:/Users/Artem/Desktop/Artem/volume_hand_project/Playlist/\"+song)\n",
    "    mp.currentPlaylist.appendItem(tune1)\n",
    "mp.settings.volume=10\n",
    "while True:\n",
    "    _, img = cap.read()\n",
    "    h, w, _ = img.shape\n",
    "    img = cv2.flip(img, 1)\n",
    "    result = hands.process(img)\n",
    "    if result.multi_hand_landmarks:\n",
    "        x = []\n",
    "        for id, lm in enumerate(result.multi_hand_landmarks[0].landmark):\n",
    "            #cv2.circle(img, (cx, cy), 3, (255, 255, 255))\n",
    "            if id == 4:\n",
    "                cx, cy = int(lm.x*w), int(lm.y*h)\n",
    "                x.append([cx, cy])\n",
    "                cv2.circle(img, (cx, cy), 5, (0, 255, 0))\n",
    "            if id == 8:\n",
    "                cx, cy = int(lm.x*w), int(lm.y*h)\n",
    "                x.append([cx, cy])\n",
    "                cv2.circle(img, (cx, cy), 5, (0, 255, 255))\n",
    "            if id == 12:\n",
    "                cx, cy = int(lm.x*w), int(lm.y*h)\n",
    "                x.append([cx, cy])\n",
    "                cv2.circle(img, (cx, cy), 5, (255, 0, 0))\n",
    "            if id == 16:\n",
    "                cx, cy = int(lm.x*w), int(lm.y*h)\n",
    "                x.append([cx, cy])\n",
    "                cv2.circle(img, (cx, cy), 5, (255, 255, 0))\n",
    "            if id == 20:\n",
    "                cx, cy = int(lm.x*w), int(lm.y*h)\n",
    "                x.append([cx, cy])\n",
    "                cv2.circle(img, (cx, cy), 5, (255, 255, 255))\n",
    "        fingers.append(x)\n",
    "    if fingers.check():\n",
    "        pred = model(fingers.get_tensor().view(1,30,10)).detach().numpy()[0]\n",
    "        ind = np.argmax(pred)\n",
    "        val = pred[ind].item()\n",
    "        if pred[3].item()<-1:\n",
    "            #up volume\n",
    "            if(ind==0 and val>=15):\n",
    "                mp.settings.volume+=5\n",
    "                print(mp.settings.volume)\n",
    "                fingers.clear()\n",
    "            #down volume\n",
    "            if(ind==1 and val>=15):\n",
    "                mp.settings.volume-=5\n",
    "                print(mp.settings.volume)\n",
    "                fingers.clear()\n",
    "            #next\n",
    "            if(ind==2 and val>=15):\n",
    "                mp.controls.next()\n",
    "                print('next')\n",
    "                fingers.clear()\n",
    "            #play/stop\n",
    "            if(ind==4 and val>=12):\n",
    "                if(lev==0):\n",
    "                    mp.controls.play()\n",
    "                    lev=1\n",
    "                    print('play')\n",
    "                else:\n",
    "                    mp.controls.pause()\n",
    "                    lev=0\n",
    "                    print('pause')\n",
    "                fingers.clear()\n",
    "    cv2.imshow(\"1\", img)\n",
    "    cv2.waitKey(1)\n",
    "    if time.time()-t>120:\n",
    "        break\n",
    "cv2.destroyAllWindows()"
   ]
  },
  {
   "cell_type": "code",
   "execution_count": 279,
   "id": "e8d55670",
   "metadata": {},
   "outputs": [],
   "source": [
    "mp.controls.pause()"
   ]
  },
  {
   "cell_type": "code",
   "execution_count": null,
   "id": "0d43f9d3",
   "metadata": {},
   "outputs": [],
   "source": []
  }
 ],
 "metadata": {
  "kernelspec": {
   "display_name": "Python 3",
   "language": "python",
   "name": "python3"
  },
  "language_info": {
   "codemirror_mode": {
    "name": "ipython",
    "version": 3
   },
   "file_extension": ".py",
   "mimetype": "text/x-python",
   "name": "python",
   "nbconvert_exporter": "python",
   "pygments_lexer": "ipython3",
   "version": "3.8.8"
  }
 },
 "nbformat": 4,
 "nbformat_minor": 5
}
