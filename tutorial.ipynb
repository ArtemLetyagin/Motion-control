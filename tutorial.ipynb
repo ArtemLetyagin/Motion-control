{
 "cells": [
  {
   "cell_type": "code",
   "execution_count": 1,
   "id": "f17a4bc3",
   "metadata": {},
   "outputs": [],
   "source": [
    "from tracer import TracerData, TracerPlayer\n",
    "from LSTM import Model, FingerDataset\n",
    "from torch.utils.data import DataLoader\n",
    "import numpy as np\n",
    "import torch.nn as nn\n",
    "import torch"
   ]
  },
  {
   "cell_type": "markdown",
   "id": "095c702a",
   "metadata": {},
   "source": [
    "# 1. Creating data"
   ]
  },
  {
   "cell_type": "code",
   "execution_count": 6,
   "id": "4fc5c70d",
   "metadata": {},
   "outputs": [],
   "source": [
    "data_motion = TracerData(timer=1.5, num_frames=20)"
   ]
  },
  {
   "cell_type": "code",
   "execution_count": 7,
   "id": "3123d7c4",
   "metadata": {},
   "outputs": [],
   "source": [
    "#record fingers trace\n",
    "data_motion.record_trace()"
   ]
  },
  {
   "cell_type": "code",
   "execution_count": 8,
   "id": "022b7624",
   "metadata": {},
   "outputs": [
    {
     "name": "stdout",
     "output_type": "stream",
     "text": [
      "Error: the path length is less than 20\n"
     ]
    }
   ],
   "source": [
    "#get recorded trace\n",
    "arr = data_motion.get_trace()"
   ]
  },
  {
   "cell_type": "code",
   "execution_count": 9,
   "id": "8daa2ca1",
   "metadata": {},
   "outputs": [
    {
     "data": {
      "image/png": "[encoded data removed]",
      "text/plain": [
       "<Figure size 640x480 with 1 Axes>"
      ]
     },
     "metadata": {},
     "output_type": "display_data"
    }
   ],
   "source": [
    "#plot recorded trace\n",
    "data_motion.image()"
   ]
  },
  {
   "cell_type": "code",
   "execution_count": 12,
   "id": "45d16a53",
   "metadata": {},
   "outputs": [
    {
     "data": {
      "image/png": "[encoded data removed]",
      "text/plain": [
       "<Figure size 640x480 with 1 Axes>"
      ]
     },
     "metadata": {},
     "output_type": "display_data"
    }
   ],
   "source": [
    "#you can create your own dataset\n",
    "#Example: dataset for up_volume motion\n",
    "up_volume = []\n",
    "data_motion.record_trace()\n",
    "data_motion.image() #check the correctness"
   ]
  },
  {
   "cell_type": "code",
   "execution_count": 13,
   "id": "7c66c039",
   "metadata": {},
   "outputs": [
    {
     "name": "stdout",
     "output_type": "stream",
     "text": [
      "Error: the path length is less than 20\n",
      "1\n"
     ]
    }
   ],
   "source": [
    "#append trace to array\n",
    "up_volume.append(data_motion.get_trace())\n",
    "print(len(up_volume))"
   ]
  },
  {
   "cell_type": "code",
   "execution_count": 851,
   "id": "acf035e3",
   "metadata": {},
   "outputs": [],
   "source": [
    "#save it\n",
    "np.save('data20/up_volume.npy', np.array(up_volume))"
   ]
  },
  {
   "cell_type": "markdown",
   "id": "6e0c671f",
   "metadata": {},
   "source": [
    "# 2. Augmentation"
   ]
  },
  {
   "cell_type": "code",
   "execution_count": 21,
   "id": "fb76ad98",
   "metadata": {},
   "outputs": [],
   "source": [
    "#here you can augment your data\n",
    "up_volume = np.load('data20/up_volume.npy')\n",
    "low_volume = np.load('data20/low_volume.npy')\n",
    "data_next = np.load('data20/next_track.npy')\n",
    "trash = np.load('data20/trash.npy')\n",
    "stop = np.load('data20/stop.npy')"
   ]
  },
  {
   "cell_type": "code",
   "execution_count": 22,
   "id": "fe9676d9",
   "metadata": {},
   "outputs": [
    {
     "name": "stdout",
     "output_type": "stream",
     "text": [
      "up volume length: 100\n",
      "low volume length: 100\n",
      "next track length: 100\n",
      "trash motion length: 100\n",
      "stop track length: 100\n"
     ]
    }
   ],
   "source": [
    "arrays = [up_volume, low_volume, data_next, trash, stop]\n",
    "for i, arr in enumerate(arrays):\n",
    "    add = []\n",
    "    for sample in arr:\n",
    "        add.append(sample+np.random.normal(0,0.05,[20,10]))\n",
    "    arrays[i] = np.concatenate((arr, add))\n",
    "    \n",
    "print(f'up volume length: {len(arrays[0])}')\n",
    "print(f'low volume length: {len(arrays[1])}')\n",
    "print(f'next track length: {len(arrays[2])}')\n",
    "print(f'trash motion length: {len(arrays[3])}')\n",
    "print(f'stop track length: {len(arrays[4])}')\n",
    "\n",
    "np.save('data20/up_volume_aug.npy', arrays[0])\n",
    "np.save('data20/low_volume_aug.npy', arrays[1])\n",
    "np.save('data20/next_aug.npy', arrays[2])\n",
    "np.save('data20/trash_aug.npy', arrays[3])\n",
    "np.save('data20/stop_aug.npy', arrays[4])"
   ]
  },
  {
   "cell_type": "markdown",
   "id": "b05f6b25",
   "metadata": {},
   "source": [
    "# 3. Dataset and DataLoader"
   ]
  },
  {
   "cell_type": "code",
   "execution_count": 23,
   "id": "39ad81a3",
   "metadata": {},
   "outputs": [
    {
     "name": "stdout",
     "output_type": "stream",
     "text": [
      "500\n"
     ]
    }
   ],
   "source": [
    "#DATASET\n",
    "paths = ['data20/up_volume_aug.npy', 'data20/low_volume_aug.npy', 'data20/next_aug.npy', 'data20/trash_aug.npy', 'data20/stop_aug.npy']\n",
    "data = FingerDataset(paths)\n",
    "print(data.__len__())"
   ]
  },
  {
   "cell_type": "code",
   "execution_count": 24,
   "id": "96321fc2",
   "metadata": {},
   "outputs": [],
   "source": [
    "#DATALOADER\n",
    "data_loader = DataLoader(data, shuffle=True, batch_size=10)"
   ]
  },
  {
   "cell_type": "markdown",
   "id": "bfe75426",
   "metadata": {},
   "source": [
    "# 4. Model training"
   ]
  },
  {
   "cell_type": "code",
   "execution_count": 29,
   "id": "84fdb529",
   "metadata": {},
   "outputs": [],
   "source": [
    "num_layers = 1\n",
    "hidden_size = 100\n",
    "model = Model(num_layers, hidden_size, 5)\n",
    "criterion = nn.CrossEntropyLoss()\n",
    "optimizer = torch.optim.Adam(model.parameters(), lr=0.01)"
   ]
  },
  {
   "cell_type": "code",
   "execution_count": 30,
   "id": "e8366dad",
   "metadata": {},
   "outputs": [
    {
     "name": "stdout",
     "output_type": "stream",
     "text": [
      "Epoch: 0, loss: 0.5370053648948669\n"
     ]
    }
   ],
   "source": [
    "#TRAINING MODEL\n",
    "num_epochs = 200\n",
    "for epoch in range(num_epochs):\n",
    "    for images, labels in data_loader:\n",
    "        out = model(images.to(torch.float))\n",
    "        \n",
    "        optimizer.zero_grad()\n",
    "        loss = criterion(out.to(torch.float), labels)\n",
    "        loss.backward()\n",
    "        optimizer.step()\n",
    "    if epoch %10 ==0:\n",
    "        print(f'Epoch: {epoch}, loss: {loss}')"
   ]
  },
  {
   "cell_type": "code",
   "execution_count": 2,
   "id": "60a8db90",
   "metadata": {},
   "outputs": [
    {
     "ename": "NameError",
     "evalue": "name 'model' is not defined",
     "output_type": "error",
     "traceback": [
      "\u001b[1;31m---------------------------------------------------------------------------\u001b[0m",
      "\u001b[1;31mNameError\u001b[0m                                 Traceback (most recent call last)",
      "\u001b[1;32m<ipython-input-2-d2b82c2054ee>\u001b[0m in \u001b[0;36m<module>\u001b[1;34m\u001b[0m\n\u001b[0;32m      1\u001b[0m \u001b[1;31m#SAVE MODEL\u001b[0m\u001b[1;33m\u001b[0m\u001b[1;33m\u001b[0m\u001b[1;33m\u001b[0m\u001b[0m\n\u001b[1;32m----> 2\u001b[1;33m \u001b[0mtorch\u001b[0m\u001b[1;33m.\u001b[0m\u001b[0msave\u001b[0m\u001b[1;33m(\u001b[0m\u001b[0mmodel\u001b[0m\u001b[1;33m.\u001b[0m\u001b[0mstate_dict\u001b[0m\u001b[1;33m(\u001b[0m\u001b[1;33m)\u001b[0m\u001b[1;33m,\u001b[0m \u001b[1;34m'model20.pth'\u001b[0m\u001b[1;33m)\u001b[0m\u001b[1;33m\u001b[0m\u001b[1;33m\u001b[0m\u001b[0m\n\u001b[0m",
      "\u001b[1;31mNameError\u001b[0m: name 'model' is not defined"
     ]
    }
   ],
   "source": [
    "#SAVE MODEL\n",
    "torch.save(model.state_dict(), 'model20.pth')"
   ]
  },
  {
   "cell_type": "code",
   "execution_count": 2,
   "id": "824c07f9",
   "metadata": {},
   "outputs": [
    {
     "data": {
      "text/plain": [
       "Model(\n",
       "  (lstm): LSTM(10, 100, batch_first=True)\n",
       "  (l1): Linear(in_features=100, out_features=5, bias=True)\n",
       "  (relu): ReLU()\n",
       ")"
      ]
     },
     "execution_count": 2,
     "metadata": {},
     "output_type": "execute_result"
    }
   ],
   "source": [
    "#LOAD MODEL\n",
    "num_layers = 1\n",
    "hidden_size = 100\n",
    "model = Model(num_layers, hidden_size, 5)\n",
    "model.load_state_dict(torch.load('model20.pth'))\n",
    "model.eval()"
   ]
  },
  {
   "cell_type": "markdown",
   "id": "a7902063",
   "metadata": {},
   "source": [
    "# 5. Testing"
   ]
  },
  {
   "cell_type": "code",
   "execution_count": 3,
   "id": "095e0e1b",
   "metadata": {},
   "outputs": [],
   "source": [
    "playlist_path = \"C:/Users/Artem/Desktop/Artem/volume_hand_project/Playlist\"\n",
    "play = TracerPlayer(playlist_path, model, 20)"
   ]
  },
  {
   "cell_type": "code",
   "execution_count": 4,
   "id": "813b48a2",
   "metadata": {},
   "outputs": [],
   "source": [
    "play.listen(60)"
   ]
  },
  {
   "cell_type": "code",
   "execution_count": null,
   "id": "0a574e49",
   "metadata": {},
   "outputs": [],
   "source": []
  }
 ],
 "metadata": {
  "kernelspec": {
   "display_name": "Python 3",
   "language": "python",
   "name": "python3"
  },
  "language_info": {
   "codemirror_mode": {
    "name": "ipython",
    "version": 3
   },
   "file_extension": ".py",
   "mimetype": "text/x-python",
   "name": "python",
   "nbconvert_exporter": "python",
   "pygments_lexer": "ipython3",
   "version": "3.8.8"
  }
 },
 "nbformat": 4,
 "nbformat_minor": 5
}
